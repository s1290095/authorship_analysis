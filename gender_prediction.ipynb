{
 "cells": [
  {
   "attachments": {},
   "cell_type": "markdown",
   "metadata": {},
   "source": [
    "デフォルト"
   ]
  },
  {
   "cell_type": "code",
   "execution_count": 3,
   "metadata": {},
   "outputs": [
    {
     "name": "stderr",
     "output_type": "stream",
     "text": [
      "c:\\Users\\yujin\\Anaconda3\\envs\\authorship\\Lib\\site-packages\\sklearn\\linear_model\\_logistic.py:458: ConvergenceWarning: lbfgs failed to converge (status=1):\n",
      "STOP: TOTAL NO. of ITERATIONS REACHED LIMIT.\n",
      "\n",
      "Increase the number of iterations (max_iter) or scale the data as shown in:\n",
      "    https://scikit-learn.org/stable/modules/preprocessing.html\n",
      "Please also refer to the documentation for alternative solver options:\n",
      "    https://scikit-learn.org/stable/modules/linear_model.html#logistic-regression\n",
      "  n_iter_i = _check_optimize_result(\n"
     ]
    },
    {
     "name": "stdout",
     "output_type": "stream",
     "text": [
      "Accuracy: 0.6778147177759675\n"
     ]
    }
   ],
   "source": [
    "import pandas as pd\n",
    "from sklearn.feature_extraction.text import CountVectorizer\n",
    "from sklearn.model_selection import train_test_split\n",
    "from sklearn.linear_model import LogisticRegression\n",
    "from sklearn.metrics import accuracy_score\n",
    "\n",
    "# CSVファイルを読み込む\n",
    "df = pd.read_csv(\"input/blogtext.csv\")\n",
    "\n",
    "# 必要な特徴量とターゲットを選択する\n",
    "X_text = df['text']\n",
    "y = df['gender']\n",
    "\n",
    "# テキストデータから特徴量を抽出する\n",
    "vectorizer = CountVectorizer()\n",
    "X_features = vectorizer.fit_transform(X_text)\n",
    "\n",
    "# 特徴量とターゲットを訓練データとテストデータに分割する\n",
    "X_train, X_test, y_train, y_test = train_test_split(X_features, y, test_size=0.2, random_state=42)\n",
    "\n",
    "# ロジスティック回帰モデルをトレーニングする\n",
    "model = LogisticRegression()\n",
    "model.fit(X_train, y_train)\n",
    "\n",
    "# テストデータで予測を行う\n",
    "y_pred = model.predict(X_test)\n",
    "\n",
    "# 予測精度を評価する\n",
    "accuracy = accuracy_score(y_test, y_pred)\n",
    "print(f'Accuracy: {accuracy}')\n"
   ]
  },
  {
   "attachments": {},
   "cell_type": "markdown",
   "metadata": {},
   "source": [
    "一人称\"i\"と\"I\"の数を特徴量として追加"
   ]
  },
  {
   "cell_type": "code",
   "execution_count": 14,
   "metadata": {},
   "outputs": [
    {
     "name": "stderr",
     "output_type": "stream",
     "text": [
      "c:\\Users\\yujin\\Anaconda3\\envs\\authorship\\Lib\\site-packages\\sklearn\\linear_model\\_logistic.py:458: ConvergenceWarning: lbfgs failed to converge (status=1):\n",
      "STOP: TOTAL NO. of ITERATIONS REACHED LIMIT.\n",
      "\n",
      "Increase the number of iterations (max_iter) or scale the data as shown in:\n",
      "    https://scikit-learn.org/stable/modules/preprocessing.html\n",
      "Please also refer to the documentation for alternative solver options:\n",
      "    https://scikit-learn.org/stable/modules/linear_model.html#logistic-regression\n",
      "  n_iter_i = _check_optimize_result(\n"
     ]
    },
    {
     "name": "stdout",
     "output_type": "stream",
     "text": [
      "Stacked Model Accuracy: 0.6789226478790548\n"
     ]
    }
   ],
   "source": [
    "import pandas as pd\n",
    "from sklearn.feature_extraction.text import CountVectorizer\n",
    "from sklearn.model_selection import train_test_split\n",
    "from sklearn.linear_model import LogisticRegression\n",
    "from sklearn.metrics import accuracy_score\n",
    "from scipy import sparse\n",
    "\n",
    "# CSVファイルを読み込む\n",
    "df = pd.read_csv(\"input/blogtext.csv\")\n",
    "\n",
    "# 一人称表現の特徴量を追加する\n",
    "df['count_i'] = df['text'].apply(lambda text: text.count('i'))\n",
    "df['count_I'] = df['text'].apply(lambda text: text.count('I'))\n",
    "\n",
    "# 必要な特徴量とターゲットを選択する\n",
    "X_features = df[['count_i', 'count_I']]\n",
    "y = df['gender']\n",
    "\n",
    "# ターゲット変数のエンコード\n",
    "gender_mapping = {'male': 0, 'female': 1}\n",
    "y_encoded = y.map(gender_mapping)\n",
    "\n",
    "# 特徴量とターゲットを訓練データとテストデータに分割する\n",
    "X_train, X_test, y_train, y_test = train_test_split(X_features, y_encoded, test_size=0.2, random_state=42)\n",
    "\n",
    "# ロジスティック回帰モデル1をトレーニングする\n",
    "model1 = LogisticRegression()\n",
    "model1.fit(X_train, y_train)\n",
    "\n",
    "# テストデータで予測を行う\n",
    "y_pred1 = model1.predict(X_test)\n",
    "\n",
    "# テキストデータから特徴量を抽出する\n",
    "vectorizer = CountVectorizer()\n",
    "X_text = df['text']  # テキストデータの列\n",
    "X_features_text = vectorizer.fit_transform(X_text)\n",
    "\n",
    "# 特徴量とターゲットを訓練データとテストデータに分割する\n",
    "X_train_text, X_test_text, y_train_text, y_test_text = train_test_split(X_features_text, y_encoded, test_size=0.2, random_state=42)\n",
    "\n",
    "# ロジスティック回帰モデル2をトレーニングする\n",
    "model2 = LogisticRegression()\n",
    "model2.fit(X_train_text, y_train_text)\n",
    "\n",
    "# テストデータで予測を行う\n",
    "y_pred2 = model2.predict(X_test_text)\n",
    "\n",
    "# 予測結果を結合する\n",
    "X_stacked = pd.concat([pd.Series(y_pred1), pd.Series(y_pred2)], axis=1)\n",
    "\n",
    "# スタッキングモデルのトレーニング用にデータを整形する\n",
    "X_stacked_train, X_stacked_test, y_stacked_train, y_stacked_test = train_test_split(X_stacked, y_test_text, test_size=0.2, random_state=42)\n",
    "\n",
    "# 最終的なスタッキングモデルをトレーニングする\n",
    "stacking_model = LogisticRegression()\n",
    "stacking_model.fit(X_stacked_train, y_stacked_train)\n",
    "\n",
    "# スタッキングモデルで予測を行う\n",
    "y_pred_stacked = stacking_model.predict(X_stacked_test)\n",
    "\n",
    "# 予測精度を評価する\n",
    "accuracy_stacked = accuracy_score(y_stacked_test, y_pred_stacked)\n",
    "print(f'Stacked Model Accuracy: {accuracy_stacked}')"
   ]
  }
 ],
 "metadata": {
  "kernelspec": {
   "display_name": "authorship",
   "language": "python",
   "name": "python3"
  },
  "language_info": {
   "codemirror_mode": {
    "name": "ipython",
    "version": 3
   },
   "file_extension": ".py",
   "mimetype": "text/x-python",
   "name": "python",
   "nbconvert_exporter": "python",
   "pygments_lexer": "ipython3",
   "version": "3.11.3"
  },
  "orig_nbformat": 4
 },
 "nbformat": 4,
 "nbformat_minor": 2
}
